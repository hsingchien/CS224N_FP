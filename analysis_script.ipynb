{
 "cells": [
  {
   "cell_type": "code",
   "execution_count": null,
   "metadata": {},
   "outputs": [],
   "source": [
    "import random, numpy as np, argparse\n",
    "from types import SimpleNamespace\n",
    "\n",
    "import torch\n",
    "from torch import nn\n",
    "import torch.nn.functional as F\n",
    "from torch.utils.data import DataLoader\n",
    "\n",
    "from bert import BertModel\n",
    "from optimizer import AdamW\n",
    "from tqdm import tqdm\n",
    "from datasets import (\n",
    "    SentenceClassificationDataset,\n",
    "    SentenceClassificationTestDataset,\n",
    "    SentencePairDataset,\n",
    "    SentencePairTestDataset,\n",
    "    load_multitask_data,\n",
    ")\n",
    "\n",
    "from evaluation import (\n",
    "    model_eval_sst,\n",
    "    model_eval_multitask,\n",
    "    model_eval_test_multitask,\n",
    "    model_val_sts,\n",
    "    model_val_para,\n",
    ")"
   ]
  },
  {
   "cell_type": "code",
   "execution_count": 43,
   "metadata": {},
   "outputs": [
    {
     "name": "stdout",
     "output_type": "stream",
     "text": [
      "Loaded 8544 train examples from data/ids-sst-train.csv\n",
      "Loaded 283003 train examples from data/quora-train.csv\n",
      "Loaded 6040 train examples from data/sts-train.csv\n",
      "Loaded 1101 train examples from data/ids-sst-dev.csv\n",
      "Loaded 40429 train examples from data/quora-dev.csv\n",
      "Loaded 863 train examples from data/sts-dev.csv\n"
     ]
    }
   ],
   "source": [
    "# prepare dataset\n",
    "sst_train, sst_dev = \"data/ids-sst-train.csv\", \"data/ids-sst-dev.csv\"\n",
    "para_train, para_dev = \"data/quora-train.csv\", \"data/quora-dev.csv\"\n",
    "sts_train, sts_dev = \"data/sts-train.csv\", \"data/sts-dev.csv\"\n",
    "\n",
    "\n",
    "sst_train_data, num_labels, para_train_data, sts_train_data = load_multitask_data(\n",
    "    sst_train, para_train, sts_train, split=\"train\"\n",
    ")\n",
    "sst_dev_data, num_labels, para_dev_data, sts_dev_data = load_multitask_data(\n",
    "    sst_dev, para_dev, sts_dev, split=\"train\"\n",
    ")\n",
    "\n",
    "sst_train_data = SentenceClassificationDataset(sst_train_data, None)\n",
    "sst_dev_data = SentenceClassificationDataset(sst_dev_data, None)\n",
    "\n",
    "\n",
    "sst_train_dataloader = DataLoader(\n",
    "    sst_train_data,\n",
    "    shuffle=True,\n",
    "    batch_size=8,\n",
    "    collate_fn=sst_train_data.collate_fn,\n",
    ")\n",
    "sst_dev_dataloader = DataLoader(\n",
    "    sst_dev_data,\n",
    "    shuffle=False,\n",
    "    batch_size=8,\n",
    "    collate_fn=sst_dev_data.collate_fn,\n",
    ")\n",
    "\n",
    "para_train_data = SentencePairDataset(para_train_data, None)\n",
    "para_dev_data = SentencePairDataset(para_dev_data, None)\n",
    "\n",
    "para_train_dataloader = DataLoader(\n",
    "    para_train_data,\n",
    "    shuffle=True,\n",
    "    batch_size=32,\n",
    "    collate_fn=para_train_data.collate_fn,\n",
    ")\n",
    "para_dev_dataloader = DataLoader(\n",
    "    para_dev_data,\n",
    "    shuffle=False,\n",
    "    batch_size=32,\n",
    "    collate_fn=para_dev_data.collate_fn,\n",
    ")\n",
    "\n",
    "sts_train_data = SentencePairDataset(sts_train_data, None, isRegression=True)\n",
    "sts_dev_data = SentencePairDataset(sts_dev_data, None, isRegression=True)\n",
    "\n",
    "sts_train_dataloader = DataLoader(\n",
    "    sts_train_data,\n",
    "    shuffle=True,\n",
    "    batch_size=8,\n",
    "    collate_fn=sts_train_data.collate_fn,\n",
    ")\n",
    "sts_dev_dataloader = DataLoader(\n",
    "    sts_dev_data,\n",
    "    shuffle=False,\n",
    "    batch_size=8,\n",
    "    collate_fn=sts_dev_data.collate_fn,\n",
    ")"
   ]
  },
  {
   "cell_type": "code",
   "execution_count": 44,
   "metadata": {},
   "outputs": [
    {
     "name": "stdout",
     "output_type": "stream",
     "text": [
      "using pretrained NOT fine-tuned base BERT!\n"
     ]
    }
   ],
   "source": [
    "# define model\n",
    "from multitask_classifier import MultitaskBERT\n",
    "\n",
    "if torch.cuda.is_available():\n",
    "    device = torch.device(f\"cuda:0\")\n",
    "elif torch.backends.mps.is_available():\n",
    "    device = torch.device(\"mps\")\n",
    "else:\n",
    "    device = torch.device(\"cpu\")\n",
    "config = SimpleNamespace(\n",
    "    **{\n",
    "        \"hidden_dropout_prob\": 0.3,\n",
    "        \"num_labels\": num_labels,\n",
    "        \"hidden_size\": 768,\n",
    "        \"data_dir\": \".\",\n",
    "        \"fine_tune_mode\": \"full-model\",\n",
    "    }\n",
    ")\n",
    "model_path = \"\"\n",
    "model = MultitaskBERT(config)\n",
    "if model_path:\n",
    "    saved = torch.load(model_path)\n",
    "    config = saved[\"model_config\"]\n",
    "    model.load_state_dict(saved[\"model\"])\n",
    "    model = model.to(device)\n",
    "    print(\"using fine-tuned BERT!\")\n",
    "else:\n",
    "    print(\"using pretrained NOT fine-tuned base BERT!\")"
   ]
  },
  {
   "cell_type": "code",
   "execution_count": 45,
   "metadata": {},
   "outputs": [
    {
     "name": "stderr",
     "output_type": "stream",
     "text": [
      "100%|██████████| 108/108 [00:13<00:00,  8.18it/s]\n"
     ]
    }
   ],
   "source": [
    "# calculate and generate list of cls embeddings and avg tken embedding\n",
    "import pandas as pd\n",
    "\n",
    "sst_dataloader, para_dataloader, sts_dataloader = (\n",
    "    sst_dev_dataloader,\n",
    "    para_dev_dataloader,\n",
    "    sts_dev_dataloader,\n",
    ")\n",
    "sts_cos_df = pd.DataFrame(\n",
    "    index=range(len(sts_dev_data)), columns=[\"id\", \"label\", \"cls_cos\", \"avg_cos\"]\n",
    ")\n",
    "sts_cos_df[\"label\"].astype(np.float16)\n",
    "ridx = 0\n",
    "for batch in tqdm(sts_dataloader):\n",
    "    tk_id1 = batch[\"token_ids_1\"]\n",
    "    at_msk1 = batch[\"attention_mask_1\"]\n",
    "    tken_type_ids_1 = batch[\"token_type_ids_1\"]\n",
    "    tk_id2 = batch[\"token_ids_2\"]\n",
    "    at_msk2 = batch[\"attention_mask_2\"]\n",
    "    tken_type_ids_2 = batch[\"token_type_ids_2\"]\n",
    "    labels = batch[\"labels\"]\n",
    "    sents_id = batch[\"sent_ids\"]\n",
    "    btch_sz = tk_id1.shape[0]\n",
    "    # get the embeddings\n",
    "    sent1_cls, sent1_avg = model.forward(tk_id1, at_msk1)\n",
    "    sent2_cls, sent2_avg = model.forward(tk_id2, at_msk2)\n",
    "\n",
    "    cls_cos = F.cosine_similarity(sent1_cls, sent2_cls)\n",
    "    avg_cos = F.cosine_similarity(sent1_avg, sent2_avg)\n",
    "    sts_cos_df.iloc[ridx : ridx + btch_sz, 2:4] = np.concatenate(\n",
    "        (\n",
    "            cls_cos.detach().numpy()[:, np.newaxis],\n",
    "            avg_cos.detach().numpy()[:, np.newaxis],\n",
    "        ),\n",
    "        axis=1,\n",
    "    )\n",
    "\n",
    "    sts_cos_df.iloc[ridx : ridx + btch_sz, 0] = sents_id\n",
    "    sts_cos_df.iloc[ridx : ridx + btch_sz, 1] = labels\n",
    "    ridx += btch_sz"
   ]
  },
  {
   "cell_type": "code",
   "execution_count": 51,
   "metadata": {},
   "outputs": [
    {
     "data": {
      "text/plain": [
       "<Axes: xlabel='label', ylabel='Count'>"
      ]
     },
     "execution_count": 51,
     "metadata": {},
     "output_type": "execute_result"
    },
    {
     "data": {
      "image/png": "[encoded data removed]",
      "text/plain": [
       "<Figure size 640x480 with 1 Axes>"
      ]
     },
     "metadata": {},
     "output_type": "display_data"
    }
   ],
   "source": [
    "# some visualization of pretrained BERT\n",
    "import seaborn as ses\n",
    "\n",
    "ses.histplot(sts_cos_df[\"label\"], bins=25, color=\"tab:orange\")\n",
    "ses.histplot(sts_cos_df[\"cls_cos\"] * 5, bins=25, color=\"tab:green\")\n",
    "ses.histplot(sts_cos_df[\"avg_cos\"] * 5, bins=25, color=\"tab:blue\")"
   ]
  }
 ],
 "metadata": {
  "kernelspec": {
   "display_name": "cs224n_dfp",
   "language": "python",
   "name": "python3"
  },
  "language_info": {
   "codemirror_mode": {
    "name": "ipython",
    "version": 3
   },
   "file_extension": ".py",
   "mimetype": "text/x-python",
   "name": "python",
   "nbconvert_exporter": "python",
   "pygments_lexer": "ipython3",
   "version": "3.8.19"
  }
 },
 "nbformat": 4,
 "nbformat_minor": 2
}
