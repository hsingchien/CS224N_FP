{
 "cells": [
  {
   "cell_type": "code",
   "execution_count": 1,
   "metadata": {},
   "outputs": [],
   "source": [
    "from types import SimpleNamespace\n",
    "\n",
    "args = {\n",
    "    \"sst_train\": \"data/ids-sst-train.csv\",\n",
    "    \"sst_dev\": \"data/ids-sst-dev.csv\",\n",
    "    \"sst_test\": \"data/ids-sst-test-student.csv\",\n",
    "    \"para_train\": \"data/quora-train.csv\",\n",
    "    \"para_dev\": \"data/quora-dev.csv\",\n",
    "    \"para_test\": \"data/quora-test-student.csv\",\n",
    "    \"sts_train\": \"data/sts-train.csv\",\n",
    "    \"sts_dev\": \"data/sts-dev.csv\",\n",
    "    \"sts_test\": \"data/sts-test-student.csv\",\n",
    "    \"seed\": 11711,\n",
    "    \"epochs\": 10,\n",
    "    \"fine-tune-mode\": \"last-linear-layer\",\n",
    "    \"use_gpu\": \"store_true\",\n",
    "    \"sst_dev_out\": \"predictions/sst-dev-output.csv\",\n",
    "    \"sst_test_out\": \"predictions/sst-test-output.csv\",\n",
    "    \"para_dev_out\": \"predictions/para-dev-output.csv\",\n",
    "    \"para_test_out\": \"predictions/para-test-output.csv\",\n",
    "    \"sts_dev_out\": \"predictions/sts-dev-output.csv\",\n",
    "    \"sts_test_out\": \"predictions/sts-test-output.csv\",\n",
    "    \"batch_size\": 8,\n",
    "    \"hidden_dropout_prob\": 0.3,\n",
    "    \"lr\": 1e-5,\n",
    "}\n",
    "args = SimpleNamespace(**args)"
   ]
  },
  {
   "cell_type": "code",
   "execution_count": 2,
   "metadata": {},
   "outputs": [
    {
     "name": "stdout",
     "output_type": "stream",
     "text": [
      "Loaded 8544 train examples from data/ids-sst-train.csv\n",
      "Loaded 283003 train examples from data/quora-train.csv\n",
      "Loaded 6040 train examples from data/sts-train.csv\n"
     ]
    }
   ],
   "source": [
    "from datasets import (\n",
    "    SentenceClassificationDataset,\n",
    "    SentenceClassificationTestDataset,\n",
    "    SentencePairDataset,\n",
    "    SentencePairTestDataset,\n",
    "    load_multitask_data,\n",
    ")\n",
    "from torch.utils.data import DataLoader\n",
    "\n",
    "\n",
    "sst_train_path = \"data/ids-sst-train.csv\"\n",
    "para_train_path = \"data/quora-train.csv\"\n",
    "sts_train_path = \"data/sts-train.csv\"\n",
    "sst_train_data, num_labels, para_train_data, sts_train_data = load_multitask_data(\n",
    "    sst_train_path, para_train_path, sts_train_path, split=\"train\"\n",
    ")"
   ]
  },
  {
   "cell_type": "code",
   "execution_count": 3,
   "metadata": {},
   "outputs": [],
   "source": [
    "sst_train_data = SentenceClassificationDataset(sst_train_data, args)\n",
    "sst_train_dataloader = DataLoader(\n",
    "    sst_train_data,\n",
    "    shuffle=True,\n",
    "    batch_size=args.batch_size,\n",
    "    collate_fn=sst_train_data.collate_fn,\n",
    ")\n",
    "para_train_data = SentencePairDataset(para_train_data, args)\n",
    "para_train_dataloader = DataLoader(\n",
    "    para_train_data,\n",
    "    shuffle=True,\n",
    "    batch_size=args.batch_size,\n",
    "    collate_fn=para_train_data.collate_fn,\n",
    ")\n",
    "sts_train_data = SentencePairDataset(sts_train_data, args)\n",
    "sts_train_dataloader = DataLoader(\n",
    "    sts_train_data,\n",
    "    shuffle=True,\n",
    "    batch_size=args.batch_size,\n",
    "    collate_fn=sts_train_data.collate_fn,\n",
    ")"
   ]
  },
  {
   "cell_type": "code",
   "execution_count": 4,
   "metadata": {},
   "outputs": [
    {
     "data": {
      "text/plain": [
       "tensor([1, 0, 0, 1, 0, 0, 0, 0])"
      ]
     },
     "execution_count": 4,
     "metadata": {},
     "output_type": "execute_result"
    }
   ],
   "source": [
    "bat = next(iter(para_train_dataloader))\n",
    "bat[\"labels\"]"
   ]
  }
 ],
 "metadata": {
  "kernelspec": {
   "display_name": "cs224n_dfp",
   "language": "python",
   "name": "python3"
  },
  "language_info": {
   "codemirror_mode": {
    "name": "ipython",
    "version": 3
   },
   "file_extension": ".py",
   "mimetype": "text/x-python",
   "name": "python",
   "nbconvert_exporter": "python",
   "pygments_lexer": "ipython3",
   "version": "3.8.19"
  }
 },
 "nbformat": 4,
 "nbformat_minor": 2
}
